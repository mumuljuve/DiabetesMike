{
  "nbformat": 4,
  "nbformat_minor": 0,
  "metadata": {
    "colab": {
      "provenance": []
    },
    "kernelspec": {
      "name": "python3",
      "display_name": "Python 3"
    },
    "language_info": {
      "name": "python"
    }
  },
  "cells": [
    {
      "cell_type": "code",
      "execution_count": 1,
      "metadata": {
        "id": "vQbDvZ3PXqhm",
        "colab": {
          "base_uri": "https://localhost:8080/",
          "height": 122
        },
        "outputId": "62d7293a-e050-488e-b12b-2e4d0d29beb9"
      },
      "outputs": [
        {
          "output_type": "execute_result",
          "data": {
            "text/plain": [
              "'\\nObjective: The objective of this assignment is to build a predictive model to predict the likelihood of a patient having diabetes based on certain features.\\n\\nDataset: You will use the \"diabetes\" dataset provided. The dataset contains information about the medical history of patients, including features like Glucose level, Blood Pressure, BMI, etc., and a target variable indicating whether the patient has diabetes (1) or not (0).\\n\\nTasks:\\n\\nExplore the dataset to understand its structure and contents.\\nPerform any necessary data preprocessing steps such as handling missing values, encoding categorical variables, and scaling numerical features.\\nSplit the dataset into training and testing sets (e.g., 80% training and 20% testing).\\nBuild a Logistic Regression model to predict the likelihood of diabetes based on the features provided.\\nEvaluate the model using appropriate metrics such as accuracy, precision, recall, F1-score, and ROC-AUC.\\nInterpret the model coefficients to understand the impact of different features on the likelihood of diabetes.\\nDeliverables:\\n\\nJupyter Notebook (or Python script) containing the code for data preprocessing, model building, and evaluation.\\nReport summarizing the key findings, model performance metrics, and insights from the model coefficients.\\nUpload the notebook on moodle and github and share the link\\nSubmission:\\n\\nSubmit the Jupyter Notebook (or Python script) and the report summarizing your analysis.\\nInclude any additional insights, visualizations, or improvements you made to the model.\\nResources:\\n\\nYou can refer to Python libraries such as Pandas, NumPy, Scikit-learn for data manipulation, model building, and evaluation.\\nFeel free to reach out for any clarifications or assistance during the assignment.\\nDeadline: Complete the assignment and submit it within [specified deadline].\\n'"
            ],
            "application/vnd.google.colaboratory.intrinsic+json": {
              "type": "string"
            }
          },
          "metadata": {},
          "execution_count": 1
        }
      ],
      "source": [
        "\"\"\"\n",
        "Objective: The objective of this assignment is to build a predictive model to predict the likelihood of a patient having diabetes based on certain features.\n",
        "\n",
        "Dataset: You will use the \"diabetes\" dataset provided. The dataset contains information about the medical history of patients, including features like Glucose level, Blood Pressure, BMI, etc., and a target variable indicating whether the patient has diabetes (1) or not (0).\n",
        "\n",
        "Tasks:\n",
        "\n",
        "Explore the dataset to understand its structure and contents.\n",
        "Perform any necessary data preprocessing steps such as handling missing values, encoding categorical variables, and scaling numerical features.\n",
        "Split the dataset into training and testing sets (e.g., 80% training and 20% testing).\n",
        "Build a Logistic Regression model to predict the likelihood of diabetes based on the features provided.\n",
        "Evaluate the model using appropriate metrics such as accuracy, precision, recall, F1-score, and ROC-AUC.\n",
        "Interpret the model coefficients to understand the impact of different features on the likelihood of diabetes.\n",
        "Deliverables:\n",
        "\n",
        "Jupyter Notebook (or Python script) containing the code for data preprocessing, model building, and evaluation.\n",
        "Report summarizing the key findings, model performance metrics, and insights from the model coefficients.\n",
        "Upload the notebook on moodle and github and share the link\n",
        "Submission:\n",
        "\n",
        "Submit the Jupyter Notebook (or Python script) and the report summarizing your analysis.\n",
        "Include any additional insights, visualizations, or improvements you made to the model.\n",
        "Resources:\n",
        "\n",
        "You can refer to Python libraries such as Pandas, NumPy, Scikit-learn for data manipulation, model building, and evaluation.\n",
        "Feel free to reach out for any clarifications or assistance during the assignment.\n",
        "Deadline: Complete the assignment and submit it within [specified deadline].\n",
        "\"\"\""
      ]
    },
    {
      "cell_type": "code",
      "source": [
        "import pandas as pd\n",
        "import numpy as np\n",
        "import matplotlib.pyplot as plt\n",
        "import seaborn as sns\n",
        "from sklearn.model_selection import train_test_split\n",
        "from sklearn.linear_model import LogisticRegression\n",
        "from sklearn.metrics import mean_squared_error, r2_score, mean_absolute_error\n",
        "from sklearn.preprocessing import StandardScaler\n",
        "from sklearn.datasets import fetch_california_housing\n",
        "from sklearn.impute import SimpleImputer\n",
        "from sklearn.model_selection import train_test_split"
      ],
      "metadata": {
        "id": "tx_J5KxZdyAf"
      },
      "execution_count": 2,
      "outputs": []
    },
    {
      "cell_type": "markdown",
      "source": [
        "Explore the dataset to understand its structure and contents."
      ],
      "metadata": {
        "id": "2WLoalvIcx_w"
      }
    },
    {
      "cell_type": "code",
      "source": [
        "import pandas as pd\n",
        "\n",
        "diabetes_data = pd.read_csv(\"datasets_228_482_diabetes.csv\")\n",
        "print(diabetes_data.head())\n"
      ],
      "metadata": {
        "id": "Bs0gtiXrYRXo",
        "outputId": "aa6418dc-6455-4edb-9640-9b2947c37bc6",
        "colab": {
          "base_uri": "https://localhost:8080/"
        }
      },
      "execution_count": 3,
      "outputs": [
        {
          "output_type": "stream",
          "name": "stdout",
          "text": [
            "   Pregnancies  Glucose  BloodPressure  SkinThickness  Insulin   BMI  \\\n",
            "0            6      148             72             35        0  33.6   \n",
            "1            1       85             66             29        0  26.6   \n",
            "2            8      183             64              0        0  23.3   \n",
            "3            1       89             66             23       94  28.1   \n",
            "4            0      137             40             35      168  43.1   \n",
            "\n",
            "   DiabetesPedigreeFunction  Age  Outcome  \n",
            "0                     0.627   50        1  \n",
            "1                     0.351   31        0  \n",
            "2                     0.672   32        1  \n",
            "3                     0.167   21        0  \n",
            "4                     2.288   33        1  \n"
          ]
        }
      ]
    },
    {
      "cell_type": "code",
      "source": [
        "print(diabetes_data.info())"
      ],
      "metadata": {
        "colab": {
          "base_uri": "https://localhost:8080/"
        },
        "id": "X2m1_fl1c6uB",
        "outputId": "2822cbba-3ebf-41f8-f098-fc85188bffaa"
      },
      "execution_count": 4,
      "outputs": [
        {
          "output_type": "stream",
          "name": "stdout",
          "text": [
            "<class 'pandas.core.frame.DataFrame'>\n",
            "RangeIndex: 768 entries, 0 to 767\n",
            "Data columns (total 9 columns):\n",
            " #   Column                    Non-Null Count  Dtype  \n",
            "---  ------                    --------------  -----  \n",
            " 0   Pregnancies               768 non-null    int64  \n",
            " 1   Glucose                   768 non-null    int64  \n",
            " 2   BloodPressure             768 non-null    int64  \n",
            " 3   SkinThickness             768 non-null    int64  \n",
            " 4   Insulin                   768 non-null    int64  \n",
            " 5   BMI                       768 non-null    float64\n",
            " 6   DiabetesPedigreeFunction  768 non-null    float64\n",
            " 7   Age                       768 non-null    int64  \n",
            " 8   Outcome                   768 non-null    int64  \n",
            "dtypes: float64(2), int64(7)\n",
            "memory usage: 54.1 KB\n",
            "None\n"
          ]
        }
      ]
    },
    {
      "cell_type": "code",
      "source": [
        "print(diabetes_data.describe())"
      ],
      "metadata": {
        "colab": {
          "base_uri": "https://localhost:8080/"
        },
        "id": "_WUSWgF1c8MX",
        "outputId": "50dc38a5-2c32-4f8e-a67d-23c166bbb317"
      },
      "execution_count": 5,
      "outputs": [
        {
          "output_type": "stream",
          "name": "stdout",
          "text": [
            "       Pregnancies     Glucose  BloodPressure  SkinThickness     Insulin  \\\n",
            "count   768.000000  768.000000     768.000000     768.000000  768.000000   \n",
            "mean      3.845052  120.894531      69.105469      20.536458   79.799479   \n",
            "std       3.369578   31.972618      19.355807      15.952218  115.244002   \n",
            "min       0.000000    0.000000       0.000000       0.000000    0.000000   \n",
            "25%       1.000000   99.000000      62.000000       0.000000    0.000000   \n",
            "50%       3.000000  117.000000      72.000000      23.000000   30.500000   \n",
            "75%       6.000000  140.250000      80.000000      32.000000  127.250000   \n",
            "max      17.000000  199.000000     122.000000      99.000000  846.000000   \n",
            "\n",
            "              BMI  DiabetesPedigreeFunction         Age     Outcome  \n",
            "count  768.000000                768.000000  768.000000  768.000000  \n",
            "mean    31.992578                  0.471876   33.240885    0.348958  \n",
            "std      7.884160                  0.331329   11.760232    0.476951  \n",
            "min      0.000000                  0.078000   21.000000    0.000000  \n",
            "25%     27.300000                  0.243750   24.000000    0.000000  \n",
            "50%     32.000000                  0.372500   29.000000    0.000000  \n",
            "75%     36.600000                  0.626250   41.000000    1.000000  \n",
            "max     67.100000                  2.420000   81.000000    1.000000  \n"
          ]
        }
      ]
    },
    {
      "cell_type": "markdown",
      "source": [
        "Perform any necessary data preprocessing steps such as handling missing values, encoding categorical variables, and scaling numerical features."
      ],
      "metadata": {
        "id": "fcCKGeAUdATM"
      }
    },
    {
      "cell_type": "code",
      "source": [
        "diabetes_data.isnull().sum()"
      ],
      "metadata": {
        "colab": {
          "base_uri": "https://localhost:8080/"
        },
        "id": "EuxjfkrrdOxe",
        "outputId": "8270b7ff-33e7-4bf3-96d2-0c43ae55a336"
      },
      "execution_count": 6,
      "outputs": [
        {
          "output_type": "execute_result",
          "data": {
            "text/plain": [
              "Pregnancies                 0\n",
              "Glucose                     0\n",
              "BloodPressure               0\n",
              "SkinThickness               0\n",
              "Insulin                     0\n",
              "BMI                         0\n",
              "DiabetesPedigreeFunction    0\n",
              "Age                         0\n",
              "Outcome                     0\n",
              "dtype: int64"
            ]
          },
          "metadata": {},
          "execution_count": 6
        }
      ]
    },
    {
      "cell_type": "code",
      "source": [
        "# Replacing zero values with NaN in specified features because it doesn't make sense in thos specific features\n",
        "zero_features = ['Glucose', 'BloodPressure', 'SkinThickness', 'Insulin', 'BMI']\n",
        "diabetes_data[zero_features] = diabetes_data[zero_features].replace(0, np.nan)\n",
        "diabetes_data.fillna(diabetes_data.mean(), inplace=True)\n",
        "\n",
        "\n",
        "# Separating features and dependent variable\n",
        "X = diabetes_data.drop(columns='Outcome')\n",
        "y = diabetes_data['Outcome']\n",
        "\"\"\"# Scaling\n",
        "scaler = StandardScaler()\n",
        "X_scaled = scaler.fit_transform(diabetes_data)\"\"\""
      ],
      "metadata": {
        "id": "Mn4e4ctBYSBX",
        "colab": {
          "base_uri": "https://localhost:8080/",
          "height": 35
        },
        "outputId": "61f82282-fda5-4fec-f361-c3e428e9ac46"
      },
      "execution_count": 7,
      "outputs": [
        {
          "output_type": "execute_result",
          "data": {
            "text/plain": [
              "'# Scaling\\nscaler = StandardScaler()\\nX_scaled = scaler.fit_transform(diabetes_data)'"
            ],
            "application/vnd.google.colaboratory.intrinsic+json": {
              "type": "string"
            }
          },
          "metadata": {},
          "execution_count": 7
        }
      ]
    },
    {
      "cell_type": "markdown",
      "source": [
        "Split the dataset into training and testing sets (e.g., 80% training and 20% testing)."
      ],
      "metadata": {
        "id": "yAsbBw85e-rg"
      }
    },
    {
      "cell_type": "code",
      "source": [
        "# Split the dataset into training and testing sets\n",
        "X_train, X_test, y_train, y_test = train_test_split(X, y, test_size=0.2, random_state=38)"
      ],
      "metadata": {
        "id": "YX9q2Np6e_XF"
      },
      "execution_count": 8,
      "outputs": []
    },
    {
      "cell_type": "code",
      "source": [
        "scaler = StandardScaler()\n",
        "XTr_scaled = scaler.fit_transform(X_train)\n",
        "XTe_scaled = scaler.transform(X_test)"
      ],
      "metadata": {
        "id": "OYuAU0b7hEu9"
      },
      "execution_count": 9,
      "outputs": []
    },
    {
      "cell_type": "markdown",
      "source": [
        "Build a Logistic Regression model to predict the likelihood of diabetes based on the features provided."
      ],
      "metadata": {
        "id": "1Rv1q3i3fFTZ"
      }
    },
    {
      "cell_type": "code",
      "source": [
        "from sklearn.linear_model import LogisticRegression\n",
        "\n",
        "# Initialize the model\n",
        "log_reg_model = LogisticRegression()\n",
        "\n",
        "# Train the model\n",
        "log_reg_model.fit(XTr_scaled, y_train)\n"
      ],
      "metadata": {
        "colab": {
          "base_uri": "https://localhost:8080/",
          "height": 75
        },
        "id": "qQ-sxgblb0AU",
        "outputId": "bbf85ada-b53e-4828-d044-8a762d4f6262"
      },
      "execution_count": 10,
      "outputs": [
        {
          "output_type": "execute_result",
          "data": {
            "text/plain": [
              "LogisticRegression()"
            ],
            "text/html": [
              "<style>#sk-container-id-1 {color: black;background-color: white;}#sk-container-id-1 pre{padding: 0;}#sk-container-id-1 div.sk-toggleable {background-color: white;}#sk-container-id-1 label.sk-toggleable__label {cursor: pointer;display: block;width: 100%;margin-bottom: 0;padding: 0.3em;box-sizing: border-box;text-align: center;}#sk-container-id-1 label.sk-toggleable__label-arrow:before {content: \"▸\";float: left;margin-right: 0.25em;color: #696969;}#sk-container-id-1 label.sk-toggleable__label-arrow:hover:before {color: black;}#sk-container-id-1 div.sk-estimator:hover label.sk-toggleable__label-arrow:before {color: black;}#sk-container-id-1 div.sk-toggleable__content {max-height: 0;max-width: 0;overflow: hidden;text-align: left;background-color: #f0f8ff;}#sk-container-id-1 div.sk-toggleable__content pre {margin: 0.2em;color: black;border-radius: 0.25em;background-color: #f0f8ff;}#sk-container-id-1 input.sk-toggleable__control:checked~div.sk-toggleable__content {max-height: 200px;max-width: 100%;overflow: auto;}#sk-container-id-1 input.sk-toggleable__control:checked~label.sk-toggleable__label-arrow:before {content: \"▾\";}#sk-container-id-1 div.sk-estimator input.sk-toggleable__control:checked~label.sk-toggleable__label {background-color: #d4ebff;}#sk-container-id-1 div.sk-label input.sk-toggleable__control:checked~label.sk-toggleable__label {background-color: #d4ebff;}#sk-container-id-1 input.sk-hidden--visually {border: 0;clip: rect(1px 1px 1px 1px);clip: rect(1px, 1px, 1px, 1px);height: 1px;margin: -1px;overflow: hidden;padding: 0;position: absolute;width: 1px;}#sk-container-id-1 div.sk-estimator {font-family: monospace;background-color: #f0f8ff;border: 1px dotted black;border-radius: 0.25em;box-sizing: border-box;margin-bottom: 0.5em;}#sk-container-id-1 div.sk-estimator:hover {background-color: #d4ebff;}#sk-container-id-1 div.sk-parallel-item::after {content: \"\";width: 100%;border-bottom: 1px solid gray;flex-grow: 1;}#sk-container-id-1 div.sk-label:hover label.sk-toggleable__label {background-color: #d4ebff;}#sk-container-id-1 div.sk-serial::before {content: \"\";position: absolute;border-left: 1px solid gray;box-sizing: border-box;top: 0;bottom: 0;left: 50%;z-index: 0;}#sk-container-id-1 div.sk-serial {display: flex;flex-direction: column;align-items: center;background-color: white;padding-right: 0.2em;padding-left: 0.2em;position: relative;}#sk-container-id-1 div.sk-item {position: relative;z-index: 1;}#sk-container-id-1 div.sk-parallel {display: flex;align-items: stretch;justify-content: center;background-color: white;position: relative;}#sk-container-id-1 div.sk-item::before, #sk-container-id-1 div.sk-parallel-item::before {content: \"\";position: absolute;border-left: 1px solid gray;box-sizing: border-box;top: 0;bottom: 0;left: 50%;z-index: -1;}#sk-container-id-1 div.sk-parallel-item {display: flex;flex-direction: column;z-index: 1;position: relative;background-color: white;}#sk-container-id-1 div.sk-parallel-item:first-child::after {align-self: flex-end;width: 50%;}#sk-container-id-1 div.sk-parallel-item:last-child::after {align-self: flex-start;width: 50%;}#sk-container-id-1 div.sk-parallel-item:only-child::after {width: 0;}#sk-container-id-1 div.sk-dashed-wrapped {border: 1px dashed gray;margin: 0 0.4em 0.5em 0.4em;box-sizing: border-box;padding-bottom: 0.4em;background-color: white;}#sk-container-id-1 div.sk-label label {font-family: monospace;font-weight: bold;display: inline-block;line-height: 1.2em;}#sk-container-id-1 div.sk-label-container {text-align: center;}#sk-container-id-1 div.sk-container {/* jupyter's `normalize.less` sets `[hidden] { display: none; }` but bootstrap.min.css set `[hidden] { display: none !important; }` so we also need the `!important` here to be able to override the default hidden behavior on the sphinx rendered scikit-learn.org. See: https://github.com/scikit-learn/scikit-learn/issues/21755 */display: inline-block !important;position: relative;}#sk-container-id-1 div.sk-text-repr-fallback {display: none;}</style><div id=\"sk-container-id-1\" class=\"sk-top-container\"><div class=\"sk-text-repr-fallback\"><pre>LogisticRegression()</pre><b>In a Jupyter environment, please rerun this cell to show the HTML representation or trust the notebook. <br />On GitHub, the HTML representation is unable to render, please try loading this page with nbviewer.org.</b></div><div class=\"sk-container\" hidden><div class=\"sk-item\"><div class=\"sk-estimator sk-toggleable\"><input class=\"sk-toggleable__control sk-hidden--visually\" id=\"sk-estimator-id-1\" type=\"checkbox\" checked><label for=\"sk-estimator-id-1\" class=\"sk-toggleable__label sk-toggleable__label-arrow\">LogisticRegression</label><div class=\"sk-toggleable__content\"><pre>LogisticRegression()</pre></div></div></div></div></div>"
            ]
          },
          "metadata": {},
          "execution_count": 10
        }
      ]
    },
    {
      "cell_type": "markdown",
      "source": [
        "Evaluate the model using appropriate metrics such as accuracy, precision, recall, F1-score, and ROC-AUC."
      ],
      "metadata": {
        "id": "9qmxsowFfKJh"
      }
    },
    {
      "cell_type": "code",
      "source": [
        "from sklearn.metrics import accuracy_score, precision_score, recall_score, f1_score, roc_auc_score\n",
        "# Evaluate the model\n",
        "y_pred = log_reg_model.predict(XTe_scaled)\n",
        "accuracy = accuracy_score(y_test, y_pred)\n",
        "precision = precision_score(y_test, y_pred)\n",
        "recall = recall_score(y_test, y_pred)\n",
        "f1 = f1_score(y_test, y_pred)\n",
        "roc_auc = roc_auc_score(y_test, y_pred)\n",
        "print(\"Accuracy:\", accuracy)\n",
        "print(\"Precision:\", precision)\n",
        "print(\"Recall:\", recall)\n",
        "print(\"F1 Score:\", f1)\n",
        "print(\"ROC AUC Score:\", roc_auc)"
      ],
      "metadata": {
        "colab": {
          "base_uri": "https://localhost:8080/"
        },
        "id": "ifyeHr4gf5vW",
        "outputId": "3c636672-7da8-4edf-e682-537ad47dbf38"
      },
      "execution_count": 11,
      "outputs": [
        {
          "output_type": "stream",
          "name": "stdout",
          "text": [
            "Accuracy: 0.7857142857142857\n",
            "Precision: 0.7631578947368421\n",
            "Recall: 0.5471698113207547\n",
            "F1 Score: 0.6373626373626373\n",
            "ROC AUC Score: 0.7290304502148329\n"
          ]
        }
      ]
    },
    {
      "cell_type": "markdown",
      "source": [
        "Interpret the model coefficients to understand the impact of different features on the likelihood of diabetes."
      ],
      "metadata": {
        "id": "skilvDy1fZTb"
      }
    },
    {
      "cell_type": "code",
      "source": [
        "# Get feature coefficients\n",
        "feature_names = X.columns\n",
        "coefficients = log_reg_model.coef_[0]\n",
        "\n",
        "# Create a dataframe to display coefficients\n",
        "coefficients_df = pd.DataFrame({'Feature': feature_names, 'Coefficient': coefficients})\n",
        "print(coefficients_df)\n"
      ],
      "metadata": {
        "colab": {
          "base_uri": "https://localhost:8080/"
        },
        "id": "7--qXv6tb9Ea",
        "outputId": "5e3bc3e4-9dcc-4d39-e0b3-c01faf3169a0"
      },
      "execution_count": 13,
      "outputs": [
        {
          "output_type": "stream",
          "name": "stdout",
          "text": [
            "                    Feature  Coefficient\n",
            "0               Pregnancies     0.431803\n",
            "1                   Glucose     1.200129\n",
            "2             BloodPressure    -0.209639\n",
            "3             SkinThickness     0.008732\n",
            "4                   Insulin    -0.092984\n",
            "5                       BMI     0.585371\n",
            "6  DiabetesPedigreeFunction     0.213775\n",
            "7                       Age     0.170007\n"
          ]
        }
      ]
    },
    {
      "cell_type": "markdown",
      "source": [
        "Glucose: The highest positive coefficient (1.200129) suggests that an elevation in glucose levels strongly correlates with an increased likelihood of diabetes.\n",
        "\n",
        "BMI (Body Mass Index): With a positive coefficient (0.585371), BMI also significantly impacts the prediction, indicating that higher BMI values are linked to a heightened risk of diabetes.\n",
        "\n",
        "Pregnancies: The coefficient (0.431803) indicates a positive association between the number of pregnancies and the likelihood of diabetes.\n",
        "\n",
        "Age: Age positively affects the likelihood of diabetes, as indicated by its coefficient (0.170007). Older individuals tend to face a greater risk.\n",
        "\n",
        "Diabetes Pedigree Function: The coefficient (0.213775) suggests a positive correlation between the diabetes pedigree function and the likelihood of diabetes.\n",
        "\n",
        "Skin Thickness: The coefficient (0.008732) suggests a marginal positive association between skin thickness and the likelihood of diabetes.\n",
        "\n",
        "Blood Pressure: With a coefficient of (-0.209639), blood pressure shows a negative correlation with the likelihood of diabetes, indicating that higher blood pressure levels may be associated with a lower likelihood of diabetes in this model.\n",
        "\n",
        "Insulin: Similarly, insulin also has a negative coefficient (-0.092984), implying that higher levels of insulin may be associated with a lower likelihood of diabetes, as per the model's interpretation."
      ],
      "metadata": {
        "id": "TQofolAQjech"
      }
    },
    {
      "cell_type": "code",
      "source": [],
      "metadata": {
        "id": "NL2wEZsgb-9-"
      },
      "execution_count": 13,
      "outputs": []
    }
  ]
}